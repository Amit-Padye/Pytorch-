{
  "nbformat": 4,
  "nbformat_minor": 0,
  "metadata": {
    "colab": {
      "name": "Auto_grad.ipynb",
      "provenance": [],
      "authorship_tag": "ABX9TyMTQuR4CaYFDSzMldOkP1Y3",
      "include_colab_link": true
    },
    "kernelspec": {
      "name": "python3",
      "display_name": "Python 3"
    },
    "language_info": {
      "name": "python"
    },
    "accelerator": "GPU",
    "widgets": {
      "application/vnd.jupyter.widget-state+json": {
        "ace389c37eaf463d918fa2f5e1d0698b": {
          "model_module": "@jupyter-widgets/controls",
          "model_name": "HBoxModel",
          "model_module_version": "1.5.0",
          "state": {
            "_view_name": "HBoxView",
            "_dom_classes": [],
            "_model_name": "HBoxModel",
            "_view_module": "@jupyter-widgets/controls",
            "_model_module_version": "1.5.0",
            "_view_count": null,
            "_view_module_version": "1.5.0",
            "box_style": "",
            "layout": "IPY_MODEL_7e16e9f3ba964ba7b7161ae7af5d9912",
            "_model_module": "@jupyter-widgets/controls",
            "children": [
              "IPY_MODEL_c917a89b494f4a7fa7106783b6061b68",
              "IPY_MODEL_b1cbeec3611946dda012c789339b221a",
              "IPY_MODEL_49879de3533c4c5eb793b7b0006ae433"
            ]
          }
        },
        "7e16e9f3ba964ba7b7161ae7af5d9912": {
          "model_module": "@jupyter-widgets/base",
          "model_name": "LayoutModel",
          "model_module_version": "1.2.0",
          "state": {
            "_view_name": "LayoutView",
            "grid_template_rows": null,
            "right": null,
            "justify_content": null,
            "_view_module": "@jupyter-widgets/base",
            "overflow": null,
            "_model_module_version": "1.2.0",
            "_view_count": null,
            "flex_flow": null,
            "width": null,
            "min_width": null,
            "border": null,
            "align_items": null,
            "bottom": null,
            "_model_module": "@jupyter-widgets/base",
            "top": null,
            "grid_column": null,
            "overflow_y": null,
            "overflow_x": null,
            "grid_auto_flow": null,
            "grid_area": null,
            "grid_template_columns": null,
            "flex": null,
            "_model_name": "LayoutModel",
            "justify_items": null,
            "grid_row": null,
            "max_height": null,
            "align_content": null,
            "visibility": null,
            "align_self": null,
            "height": null,
            "min_height": null,
            "padding": null,
            "grid_auto_rows": null,
            "grid_gap": null,
            "max_width": null,
            "order": null,
            "_view_module_version": "1.2.0",
            "grid_template_areas": null,
            "object_position": null,
            "object_fit": null,
            "grid_auto_columns": null,
            "margin": null,
            "display": null,
            "left": null
          }
        },
        "c917a89b494f4a7fa7106783b6061b68": {
          "model_module": "@jupyter-widgets/controls",
          "model_name": "HTMLModel",
          "model_module_version": "1.5.0",
          "state": {
            "_view_name": "HTMLView",
            "style": "IPY_MODEL_be6d8f77490c4f86bb11653b6b39ea15",
            "_dom_classes": [],
            "description": "",
            "_model_name": "HTMLModel",
            "placeholder": "​",
            "_view_module": "@jupyter-widgets/controls",
            "_model_module_version": "1.5.0",
            "value": "100%",
            "_view_count": null,
            "_view_module_version": "1.5.0",
            "description_tooltip": null,
            "_model_module": "@jupyter-widgets/controls",
            "layout": "IPY_MODEL_40f149751a61408dbd84a8bb793be053"
          }
        },
        "b1cbeec3611946dda012c789339b221a": {
          "model_module": "@jupyter-widgets/controls",
          "model_name": "FloatProgressModel",
          "model_module_version": "1.5.0",
          "state": {
            "_view_name": "ProgressView",
            "style": "IPY_MODEL_4126c8ef929d43f0a30673a0f0cdcbac",
            "_dom_classes": [],
            "description": "",
            "_model_name": "FloatProgressModel",
            "bar_style": "success",
            "max": 46830571,
            "_view_module": "@jupyter-widgets/controls",
            "_model_module_version": "1.5.0",
            "value": 46830571,
            "_view_count": null,
            "_view_module_version": "1.5.0",
            "orientation": "horizontal",
            "min": 0,
            "description_tooltip": null,
            "_model_module": "@jupyter-widgets/controls",
            "layout": "IPY_MODEL_69ed0823eb324da480ac7062d9645720"
          }
        },
        "49879de3533c4c5eb793b7b0006ae433": {
          "model_module": "@jupyter-widgets/controls",
          "model_name": "HTMLModel",
          "model_module_version": "1.5.0",
          "state": {
            "_view_name": "HTMLView",
            "style": "IPY_MODEL_ef918fb7d18e4919832f3299fa2e5ec5",
            "_dom_classes": [],
            "description": "",
            "_model_name": "HTMLModel",
            "placeholder": "​",
            "_view_module": "@jupyter-widgets/controls",
            "_model_module_version": "1.5.0",
            "value": " 44.7M/44.7M [00:00&lt;00:00, 100MB/s]",
            "_view_count": null,
            "_view_module_version": "1.5.0",
            "description_tooltip": null,
            "_model_module": "@jupyter-widgets/controls",
            "layout": "IPY_MODEL_4201a0ed9e4b41ba922d98a8f6bb09e5"
          }
        },
        "be6d8f77490c4f86bb11653b6b39ea15": {
          "model_module": "@jupyter-widgets/controls",
          "model_name": "DescriptionStyleModel",
          "model_module_version": "1.5.0",
          "state": {
            "_view_name": "StyleView",
            "_model_name": "DescriptionStyleModel",
            "description_width": "",
            "_view_module": "@jupyter-widgets/base",
            "_model_module_version": "1.5.0",
            "_view_count": null,
            "_view_module_version": "1.2.0",
            "_model_module": "@jupyter-widgets/controls"
          }
        },
        "40f149751a61408dbd84a8bb793be053": {
          "model_module": "@jupyter-widgets/base",
          "model_name": "LayoutModel",
          "model_module_version": "1.2.0",
          "state": {
            "_view_name": "LayoutView",
            "grid_template_rows": null,
            "right": null,
            "justify_content": null,
            "_view_module": "@jupyter-widgets/base",
            "overflow": null,
            "_model_module_version": "1.2.0",
            "_view_count": null,
            "flex_flow": null,
            "width": null,
            "min_width": null,
            "border": null,
            "align_items": null,
            "bottom": null,
            "_model_module": "@jupyter-widgets/base",
            "top": null,
            "grid_column": null,
            "overflow_y": null,
            "overflow_x": null,
            "grid_auto_flow": null,
            "grid_area": null,
            "grid_template_columns": null,
            "flex": null,
            "_model_name": "LayoutModel",
            "justify_items": null,
            "grid_row": null,
            "max_height": null,
            "align_content": null,
            "visibility": null,
            "align_self": null,
            "height": null,
            "min_height": null,
            "padding": null,
            "grid_auto_rows": null,
            "grid_gap": null,
            "max_width": null,
            "order": null,
            "_view_module_version": "1.2.0",
            "grid_template_areas": null,
            "object_position": null,
            "object_fit": null,
            "grid_auto_columns": null,
            "margin": null,
            "display": null,
            "left": null
          }
        },
        "4126c8ef929d43f0a30673a0f0cdcbac": {
          "model_module": "@jupyter-widgets/controls",
          "model_name": "ProgressStyleModel",
          "model_module_version": "1.5.0",
          "state": {
            "_view_name": "StyleView",
            "_model_name": "ProgressStyleModel",
            "description_width": "",
            "_view_module": "@jupyter-widgets/base",
            "_model_module_version": "1.5.0",
            "_view_count": null,
            "_view_module_version": "1.2.0",
            "bar_color": null,
            "_model_module": "@jupyter-widgets/controls"
          }
        },
        "69ed0823eb324da480ac7062d9645720": {
          "model_module": "@jupyter-widgets/base",
          "model_name": "LayoutModel",
          "model_module_version": "1.2.0",
          "state": {
            "_view_name": "LayoutView",
            "grid_template_rows": null,
            "right": null,
            "justify_content": null,
            "_view_module": "@jupyter-widgets/base",
            "overflow": null,
            "_model_module_version": "1.2.0",
            "_view_count": null,
            "flex_flow": null,
            "width": null,
            "min_width": null,
            "border": null,
            "align_items": null,
            "bottom": null,
            "_model_module": "@jupyter-widgets/base",
            "top": null,
            "grid_column": null,
            "overflow_y": null,
            "overflow_x": null,
            "grid_auto_flow": null,
            "grid_area": null,
            "grid_template_columns": null,
            "flex": null,
            "_model_name": "LayoutModel",
            "justify_items": null,
            "grid_row": null,
            "max_height": null,
            "align_content": null,
            "visibility": null,
            "align_self": null,
            "height": null,
            "min_height": null,
            "padding": null,
            "grid_auto_rows": null,
            "grid_gap": null,
            "max_width": null,
            "order": null,
            "_view_module_version": "1.2.0",
            "grid_template_areas": null,
            "object_position": null,
            "object_fit": null,
            "grid_auto_columns": null,
            "margin": null,
            "display": null,
            "left": null
          }
        },
        "ef918fb7d18e4919832f3299fa2e5ec5": {
          "model_module": "@jupyter-widgets/controls",
          "model_name": "DescriptionStyleModel",
          "model_module_version": "1.5.0",
          "state": {
            "_view_name": "StyleView",
            "_model_name": "DescriptionStyleModel",
            "description_width": "",
            "_view_module": "@jupyter-widgets/base",
            "_model_module_version": "1.5.0",
            "_view_count": null,
            "_view_module_version": "1.2.0",
            "_model_module": "@jupyter-widgets/controls"
          }
        },
        "4201a0ed9e4b41ba922d98a8f6bb09e5": {
          "model_module": "@jupyter-widgets/base",
          "model_name": "LayoutModel",
          "model_module_version": "1.2.0",
          "state": {
            "_view_name": "LayoutView",
            "grid_template_rows": null,
            "right": null,
            "justify_content": null,
            "_view_module": "@jupyter-widgets/base",
            "overflow": null,
            "_model_module_version": "1.2.0",
            "_view_count": null,
            "flex_flow": null,
            "width": null,
            "min_width": null,
            "border": null,
            "align_items": null,
            "bottom": null,
            "_model_module": "@jupyter-widgets/base",
            "top": null,
            "grid_column": null,
            "overflow_y": null,
            "overflow_x": null,
            "grid_auto_flow": null,
            "grid_area": null,
            "grid_template_columns": null,
            "flex": null,
            "_model_name": "LayoutModel",
            "justify_items": null,
            "grid_row": null,
            "max_height": null,
            "align_content": null,
            "visibility": null,
            "align_self": null,
            "height": null,
            "min_height": null,
            "padding": null,
            "grid_auto_rows": null,
            "grid_gap": null,
            "max_width": null,
            "order": null,
            "_view_module_version": "1.2.0",
            "grid_template_areas": null,
            "object_position": null,
            "object_fit": null,
            "grid_auto_columns": null,
            "margin": null,
            "display": null,
            "left": null
          }
        }
      }
    }
  },
  "cells": [
    {
      "cell_type": "markdown",
      "metadata": {
        "id": "view-in-github",
        "colab_type": "text"
      },
      "source": [
        "<a href=\"https://colab.research.google.com/github/Amit-Padye/Pytorch-/blob/main/Auto_grad.ipynb\" target=\"_parent\"><img src=\"https://colab.research.google.com/assets/colab-badge.svg\" alt=\"Open In Colab\"/></a>"
      ]
    },
    {
      "cell_type": "code",
      "metadata": {
        "id": "vjDtR3ShwTl6"
      },
      "source": [
        "import torch, torchvision"
      ],
      "execution_count": 1,
      "outputs": []
    },
    {
      "cell_type": "code",
      "metadata": {
        "colab": {
          "base_uri": "https://localhost:8080/",
          "height": 66,
          "referenced_widgets": [
            "ace389c37eaf463d918fa2f5e1d0698b",
            "7e16e9f3ba964ba7b7161ae7af5d9912",
            "c917a89b494f4a7fa7106783b6061b68",
            "b1cbeec3611946dda012c789339b221a",
            "49879de3533c4c5eb793b7b0006ae433",
            "be6d8f77490c4f86bb11653b6b39ea15",
            "40f149751a61408dbd84a8bb793be053",
            "4126c8ef929d43f0a30673a0f0cdcbac",
            "69ed0823eb324da480ac7062d9645720",
            "ef918fb7d18e4919832f3299fa2e5ec5",
            "4201a0ed9e4b41ba922d98a8f6bb09e5"
          ]
        },
        "id": "e_XJ91Ruvglp",
        "outputId": "41d17d06-3864-4c85-f8b6-1c4943f44d4e"
      },
      "source": [
        "\n",
        "model = torchvision.models.resnet18(pretrained=True)\n",
        "data = torch.rand(1, 3, 64, 64)\n",
        "labels = torch.rand(1, 1000)"
      ],
      "execution_count": 3,
      "outputs": [
        {
          "output_type": "stream",
          "name": "stderr",
          "text": [
            "Downloading: \"https://download.pytorch.org/models/resnet18-f37072fd.pth\" to /root/.cache/torch/hub/checkpoints/resnet18-f37072fd.pth\n"
          ]
        },
        {
          "output_type": "display_data",
          "data": {
            "application/vnd.jupyter.widget-view+json": {
              "model_id": "ace389c37eaf463d918fa2f5e1d0698b",
              "version_minor": 0,
              "version_major": 2
            },
            "text/plain": [
              "  0%|          | 0.00/44.7M [00:00<?, ?B/s]"
            ]
          },
          "metadata": {}
        }
      ]
    },
    {
      "cell_type": "code",
      "metadata": {
        "colab": {
          "base_uri": "https://localhost:8080/"
        },
        "id": "HmvJQAi-wQ2i",
        "outputId": "ea2f321f-4c19-491d-fa1d-d94603d76743"
      },
      "source": [
        "data"
      ],
      "execution_count": 4,
      "outputs": [
        {
          "output_type": "execute_result",
          "data": {
            "text/plain": [
              "tensor([[[[0.3817, 0.0228, 0.9325,  ..., 0.8250, 0.6594, 0.0185],\n",
              "          [0.2364, 0.0743, 0.2260,  ..., 0.3389, 0.9315, 0.9411],\n",
              "          [0.2750, 0.3503, 0.5444,  ..., 0.1172, 0.6386, 0.1905],\n",
              "          ...,\n",
              "          [0.4556, 0.4401, 0.9792,  ..., 0.7586, 0.9651, 0.8448],\n",
              "          [0.6344, 0.8621, 0.5860,  ..., 0.4563, 0.2435, 0.8043],\n",
              "          [0.2600, 0.6780, 0.8343,  ..., 0.6575, 0.3798, 0.7388]],\n",
              "\n",
              "         [[0.4997, 0.3611, 0.4205,  ..., 0.4458, 0.3066, 0.1079],\n",
              "          [0.0319, 0.3365, 0.9202,  ..., 0.0989, 0.4530, 0.5643],\n",
              "          [0.2579, 0.9922, 0.3478,  ..., 0.5668, 0.3268, 0.0837],\n",
              "          ...,\n",
              "          [0.2066, 0.8446, 0.2210,  ..., 0.5179, 0.9658, 0.3530],\n",
              "          [0.3807, 0.9634, 0.9288,  ..., 0.4418, 0.9193, 0.8825],\n",
              "          [0.2385, 0.5881, 0.2699,  ..., 0.4374, 0.8486, 0.3505]],\n",
              "\n",
              "         [[0.4818, 0.1704, 0.4038,  ..., 0.6527, 0.6908, 0.3570],\n",
              "          [0.1395, 0.8256, 0.9924,  ..., 0.4743, 0.0638, 0.5095],\n",
              "          [0.1901, 0.3052, 0.8544,  ..., 0.6200, 0.1224, 0.4186],\n",
              "          ...,\n",
              "          [0.9061, 0.6935, 0.4483,  ..., 0.5747, 0.1912, 0.5345],\n",
              "          [0.2434, 0.9692, 0.3447,  ..., 0.1553, 0.3976, 0.2940],\n",
              "          [0.9592, 0.5691, 0.0079,  ..., 0.3274, 0.7896, 0.1844]]]])"
            ]
          },
          "metadata": {},
          "execution_count": 4
        }
      ]
    },
    {
      "cell_type": "code",
      "metadata": {
        "colab": {
          "base_uri": "https://localhost:8080/"
        },
        "id": "1jHPajLXwsJw",
        "outputId": "2630c465-42d0-484c-c837-01a8f6b5d8d1"
      },
      "source": [
        "labels"
      ],
      "execution_count": 5,
      "outputs": [
        {
          "output_type": "execute_result",
          "data": {
            "text/plain": [
              "tensor([[9.9491e-01, 2.7120e-01, 6.1022e-01, 5.9924e-01, 2.8215e-01, 2.2507e-01,\n",
              "         6.8383e-01, 7.6006e-01, 1.4318e-01, 8.9480e-01, 3.9497e-02, 5.3770e-01,\n",
              "         5.5884e-01, 1.5290e-01, 8.8386e-01, 1.9433e-01, 5.9557e-01, 8.2181e-01,\n",
              "         9.5348e-01, 6.5905e-01, 4.8634e-01, 9.5765e-01, 2.3658e-01, 9.8695e-01,\n",
              "         9.7410e-01, 5.9077e-01, 7.6933e-01, 4.7997e-02, 3.2074e-01, 9.1713e-01,\n",
              "         8.1331e-01, 5.8764e-02, 8.9768e-01, 8.9054e-02, 4.1638e-01, 5.8787e-01,\n",
              "         7.6411e-01, 5.9865e-01, 6.1981e-01, 3.6120e-01, 4.7059e-01, 7.9591e-01,\n",
              "         2.3459e-01, 1.9039e-01, 8.2985e-01, 5.6005e-01, 1.5671e-01, 1.4197e-01,\n",
              "         1.0150e-01, 2.9716e-01, 5.5070e-01, 7.7853e-02, 7.4603e-01, 4.6544e-01,\n",
              "         9.3030e-01, 1.5451e-01, 2.2823e-01, 1.5447e-01, 8.4179e-01, 6.9737e-01,\n",
              "         7.6228e-01, 1.6129e-04, 6.8038e-01, 9.4416e-02, 1.0684e-01, 2.1001e-02,\n",
              "         2.5663e-01, 9.9244e-01, 5.9172e-01, 8.4020e-02, 6.6109e-02, 7.9227e-01,\n",
              "         8.4000e-01, 7.5991e-01, 2.1559e-01, 6.6564e-01, 6.7207e-01, 5.7984e-02,\n",
              "         6.0744e-01, 3.5985e-01, 4.7421e-01, 3.9368e-01, 2.5139e-01, 1.1929e-01,\n",
              "         8.7623e-01, 8.3030e-01, 2.6337e-01, 4.3187e-01, 7.6557e-01, 9.1324e-01,\n",
              "         3.1002e-01, 3.3805e-01, 7.6508e-01, 7.5289e-01, 8.9250e-01, 6.7003e-01,\n",
              "         8.4863e-01, 5.6353e-01, 4.1423e-01, 5.2009e-02, 6.0441e-01, 1.3494e-01,\n",
              "         8.2262e-01, 1.9772e-01, 8.1056e-01, 1.9138e-01, 7.6123e-01, 3.7224e-01,\n",
              "         3.4504e-01, 4.4832e-01, 8.8928e-01, 1.6957e-01, 9.3255e-01, 2.2603e-01,\n",
              "         7.1994e-01, 3.7968e-01, 2.1001e-01, 8.7254e-01, 4.6028e-01, 3.0577e-01,\n",
              "         7.8759e-02, 1.2634e-01, 3.5491e-02, 6.2048e-01, 4.7414e-01, 6.2135e-01,\n",
              "         5.1736e-01, 1.0096e-01, 6.7681e-01, 8.1798e-01, 1.2128e-01, 3.9304e-01,\n",
              "         6.8775e-01, 6.0996e-01, 5.4577e-01, 4.9569e-01, 9.2556e-02, 6.5763e-01,\n",
              "         8.0887e-01, 1.5556e-01, 3.3890e-01, 5.0438e-01, 9.1585e-01, 1.6509e-01,\n",
              "         6.0995e-02, 2.3725e-01, 4.1138e-01, 3.3779e-01, 2.7001e-01, 4.6097e-01,\n",
              "         8.3167e-01, 6.4464e-01, 2.4212e-01, 5.8895e-01, 2.0476e-01, 5.3023e-01,\n",
              "         2.4183e-01, 3.8723e-01, 5.8270e-01, 4.8182e-01, 1.7234e-01, 2.4251e-02,\n",
              "         1.3097e-02, 9.7003e-01, 1.3299e-01, 7.1456e-02, 2.4413e-01, 1.4054e-01,\n",
              "         5.7045e-01, 1.0829e-01, 7.4983e-01, 7.1703e-01, 4.1247e-01, 8.9820e-01,\n",
              "         4.3154e-01, 5.1661e-01, 9.9383e-01, 1.3403e-01, 7.6675e-01, 7.2600e-01,\n",
              "         1.5563e-01, 9.9242e-01, 3.0926e-01, 8.7349e-01, 2.5749e-01, 8.0903e-02,\n",
              "         6.7128e-01, 3.3650e-01, 9.8095e-01, 9.7388e-01, 3.6936e-01, 1.6348e-01,\n",
              "         3.4519e-01, 4.0218e-01, 4.1497e-01, 1.3615e-01, 5.2022e-01, 9.8020e-01,\n",
              "         2.1706e-01, 5.9815e-01, 4.7426e-01, 7.3170e-01, 5.3600e-01, 7.8718e-01,\n",
              "         9.6152e-01, 8.0141e-01, 8.9731e-02, 6.4484e-01, 2.5600e-01, 7.7291e-02,\n",
              "         7.1605e-01, 2.6133e-01, 6.9359e-01, 3.8437e-01, 4.7089e-01, 1.8565e-01,\n",
              "         8.0656e-01, 3.7649e-02, 5.3542e-01, 5.7069e-01, 6.8203e-01, 9.5812e-01,\n",
              "         4.2747e-01, 8.3491e-01, 6.3339e-01, 1.0182e-01, 4.7665e-01, 6.6085e-01,\n",
              "         5.5152e-01, 4.1040e-01, 6.1427e-01, 9.1344e-01, 9.7755e-01, 4.1586e-01,\n",
              "         5.4544e-02, 1.0435e-01, 2.5486e-02, 9.7113e-01, 9.2723e-01, 5.5836e-01,\n",
              "         1.7972e-01, 2.0187e-01, 9.4849e-01, 6.2086e-01, 6.4071e-01, 7.4477e-03,\n",
              "         8.6797e-01, 3.0437e-01, 4.3774e-01, 6.1037e-01, 2.8059e-01, 5.4926e-01,\n",
              "         6.6547e-01, 6.7221e-01, 2.6647e-01, 1.9459e-01, 1.8181e-01, 5.7221e-01,\n",
              "         3.9237e-03, 5.9769e-01, 8.0814e-01, 4.4833e-01, 6.4436e-02, 1.4439e-02,\n",
              "         4.2816e-01, 3.6501e-02, 1.4735e-01, 2.4052e-01, 5.5616e-01, 4.1544e-01,\n",
              "         1.9884e-01, 4.2939e-01, 2.8136e-01, 6.8495e-02, 2.1336e-02, 1.5983e-02,\n",
              "         4.0444e-01, 8.3888e-01, 1.7293e-01, 9.4090e-01, 5.4005e-01, 8.2358e-01,\n",
              "         6.1494e-01, 1.9486e-01, 8.8440e-01, 3.7962e-02, 2.8243e-01, 8.5304e-01,\n",
              "         8.4898e-01, 4.0610e-03, 5.0761e-01, 2.7636e-01, 2.4508e-01, 3.4837e-01,\n",
              "         9.4874e-01, 8.1294e-01, 2.8982e-01, 3.1598e-01, 7.7452e-01, 8.1709e-01,\n",
              "         5.9854e-01, 4.2626e-02, 4.6786e-01, 5.4334e-01, 3.4622e-01, 3.8771e-01,\n",
              "         4.2216e-01, 2.1073e-01, 7.7338e-02, 8.3924e-01, 7.7589e-01, 8.0724e-01,\n",
              "         3.6545e-01, 3.3305e-01, 8.3202e-01, 8.5450e-01, 5.9249e-01, 3.9102e-02,\n",
              "         4.2605e-01, 5.1799e-02, 6.7397e-01, 6.9464e-01, 3.7227e-01, 6.3671e-01,\n",
              "         1.5490e-01, 2.5265e-01, 2.5202e-01, 5.9781e-02, 1.2316e-01, 6.8191e-01,\n",
              "         7.4226e-01, 1.2592e-01, 6.0682e-01, 2.3915e-01, 5.6296e-01, 2.7694e-01,\n",
              "         6.3470e-01, 9.1829e-01, 9.8600e-01, 9.3071e-01, 5.7820e-01, 1.0912e-01,\n",
              "         8.5288e-01, 4.7005e-01, 5.0024e-01, 6.5857e-01, 4.3093e-01, 7.0149e-01,\n",
              "         8.4229e-01, 9.1613e-01, 8.4213e-01, 7.8562e-01, 1.0275e-01, 9.2137e-01,\n",
              "         4.6004e-01, 3.8652e-01, 2.5725e-01, 9.1293e-01, 1.6744e-01, 8.4867e-01,\n",
              "         6.5125e-01, 6.9816e-01, 3.6299e-02, 4.4304e-01, 6.1534e-01, 8.4189e-01,\n",
              "         5.3037e-02, 9.8159e-01, 3.2569e-01, 2.3401e-01, 6.3821e-01, 2.2458e-01,\n",
              "         6.0096e-01, 6.3132e-01, 8.1278e-01, 9.2513e-01, 4.0397e-01, 2.7619e-01,\n",
              "         3.6222e-01, 9.9311e-01, 3.6857e-01, 5.9218e-01, 2.9508e-02, 2.7876e-01,\n",
              "         2.9991e-02, 4.9860e-01, 5.0103e-02, 9.7555e-01, 2.2963e-01, 4.4171e-01,\n",
              "         4.6421e-01, 3.3923e-01, 4.1394e-01, 1.2697e-01, 1.2785e-01, 8.8128e-01,\n",
              "         7.4337e-01, 4.5581e-01, 9.1345e-01, 2.5418e-01, 4.9563e-01, 6.2576e-01,\n",
              "         7.2879e-01, 5.7190e-01, 8.3612e-01, 5.7359e-01, 8.0485e-01, 2.5656e-01,\n",
              "         9.6334e-01, 3.5053e-01, 2.3430e-03, 8.8831e-01, 7.3106e-01, 7.7654e-01,\n",
              "         3.9919e-01, 4.6076e-01, 8.8714e-01, 9.4546e-01, 4.7479e-01, 9.4099e-01,\n",
              "         2.7390e-01, 4.2874e-01, 5.2333e-01, 1.3310e-01, 3.9381e-01, 3.8699e-01,\n",
              "         9.8600e-03, 1.8092e-01, 7.9742e-01, 5.0947e-02, 8.7707e-01, 3.4777e-01,\n",
              "         4.2108e-01, 8.9198e-01, 5.6813e-01, 9.4329e-01, 1.3795e-01, 6.0151e-01,\n",
              "         2.1842e-01, 6.4466e-01, 4.8683e-01, 3.0210e-01, 8.8559e-02, 6.7450e-02,\n",
              "         5.1382e-01, 4.3262e-01, 4.0922e-01, 2.0272e-01, 4.4286e-01, 9.7515e-01,\n",
              "         5.9672e-02, 9.5534e-01, 1.5434e-01, 8.4171e-01, 1.4962e-01, 5.8367e-01,\n",
              "         5.8186e-01, 1.6757e-02, 1.9594e-01, 3.6796e-01, 1.5578e-01, 7.2358e-01,\n",
              "         4.4623e-01, 7.1808e-01, 4.0880e-01, 5.1642e-02, 2.8214e-02, 3.4057e-01,\n",
              "         2.3181e-01, 5.1470e-02, 8.8577e-01, 4.7387e-01, 2.2529e-01, 5.6818e-01,\n",
              "         7.0836e-01, 1.3960e-01, 2.6158e-01, 2.9009e-02, 4.3504e-01, 5.9940e-01,\n",
              "         7.3519e-01, 7.0073e-01, 8.9365e-01, 1.0855e-01, 2.4444e-01, 2.5243e-01,\n",
              "         7.1533e-01, 5.1133e-01, 6.2827e-01, 5.2405e-01, 1.3055e-01, 2.9051e-01,\n",
              "         5.5484e-01, 9.4145e-01, 4.3933e-01, 1.1314e-01, 4.8378e-01, 2.1275e-02,\n",
              "         6.6246e-01, 6.8983e-01, 6.3879e-01, 8.7325e-01, 3.2577e-01, 2.7253e-01,\n",
              "         5.7284e-01, 2.7562e-01, 3.4657e-01, 4.8264e-01, 8.5209e-01, 4.6372e-01,\n",
              "         2.1271e-01, 7.9480e-02, 2.8396e-01, 5.5092e-01, 5.2285e-02, 9.3156e-01,\n",
              "         8.3294e-02, 2.4104e-01, 3.5130e-01, 2.0189e-01, 8.3373e-01, 7.6993e-01,\n",
              "         8.1657e-01, 1.9062e-01, 6.1041e-01, 2.1934e-01, 8.4898e-02, 8.9807e-01,\n",
              "         3.3636e-01, 4.4630e-01, 5.6758e-01, 5.6875e-01, 1.6610e-01, 9.0911e-01,\n",
              "         1.0098e-01, 8.5425e-01, 7.3922e-01, 6.4284e-01, 7.6051e-01, 8.6100e-01,\n",
              "         4.8612e-01, 6.0109e-01, 6.9402e-01, 9.5061e-01, 6.0895e-01, 4.6310e-01,\n",
              "         2.2351e-01, 4.5807e-01, 7.5804e-01, 2.7035e-01, 5.5123e-01, 8.2462e-01,\n",
              "         2.5787e-01, 2.1534e-01, 3.3098e-01, 5.9406e-01, 5.8802e-01, 7.7290e-02,\n",
              "         9.2823e-01, 7.5447e-01, 7.6415e-01, 6.2847e-02, 6.0883e-01, 6.6225e-01,\n",
              "         4.3506e-02, 4.0195e-01, 2.6961e-01, 9.6614e-01, 5.5684e-01, 7.3743e-01,\n",
              "         1.6499e-01, 9.7849e-01, 1.5833e-02, 5.3856e-01, 1.9630e-01, 5.6899e-01,\n",
              "         1.1528e-01, 1.1498e-03, 7.7101e-01, 4.1871e-01, 1.9339e-01, 9.8514e-02,\n",
              "         8.7501e-01, 5.0378e-01, 2.0673e-01, 5.6965e-01, 7.8917e-01, 7.8522e-01,\n",
              "         2.2960e-01, 2.3216e-01, 8.8104e-01, 5.0615e-01, 6.0691e-01, 6.6650e-01,\n",
              "         7.6313e-01, 1.2903e-02, 3.7936e-01, 9.7451e-01, 8.5005e-01, 4.3808e-01,\n",
              "         1.3397e-02, 1.8493e-02, 9.3551e-01, 6.4292e-01, 2.5196e-01, 1.6589e-01,\n",
              "         1.9105e-02, 9.7528e-02, 1.8039e-01, 4.2231e-01, 2.1133e-02, 9.6845e-01,\n",
              "         2.8685e-01, 7.5637e-02, 1.1299e-01, 5.4680e-01, 8.3785e-01, 6.0164e-02,\n",
              "         9.7169e-01, 3.0512e-01, 3.1087e-01, 6.9091e-01, 2.3739e-01, 9.5445e-02,\n",
              "         7.9270e-01, 8.3415e-01, 4.5524e-01, 9.6334e-02, 5.3292e-01, 3.3102e-01,\n",
              "         1.6460e-01, 4.3215e-01, 2.4693e-02, 6.0979e-01, 6.1854e-01, 7.2954e-01,\n",
              "         2.7306e-01, 5.8617e-01, 4.4100e-02, 5.7628e-01, 6.9478e-01, 1.2546e-01,\n",
              "         3.4440e-01, 7.4039e-01, 9.3703e-01, 7.8591e-01, 5.1185e-01, 6.0470e-01,\n",
              "         1.7535e-01, 3.4630e-01, 8.0940e-01, 4.0473e-01, 8.1116e-02, 2.7452e-01,\n",
              "         8.6015e-01, 7.0295e-01, 7.1599e-01, 6.1426e-01, 9.4784e-01, 9.4050e-01,\n",
              "         9.6228e-01, 8.1126e-01, 7.7991e-01, 7.2148e-01, 3.5811e-01, 4.4782e-01,\n",
              "         3.6010e-01, 4.9568e-01, 8.7346e-01, 4.6548e-01, 4.6163e-02, 4.8188e-01,\n",
              "         9.6102e-01, 3.0502e-01, 6.4349e-01, 6.6702e-01, 9.9162e-01, 2.6171e-01,\n",
              "         6.3790e-01, 4.7121e-01, 9.6301e-01, 1.3125e-01, 4.3284e-01, 9.9355e-01,\n",
              "         2.8177e-01, 1.0338e-01, 5.7577e-01, 6.2945e-01, 1.1626e-01, 2.9284e-01,\n",
              "         8.7591e-01, 5.2121e-01, 8.8924e-01, 5.1377e-01, 9.6613e-01, 3.8686e-01,\n",
              "         4.2952e-01, 3.3834e-01, 6.6375e-01, 8.4718e-01, 1.6317e-01, 2.2813e-01,\n",
              "         6.2647e-01, 3.8065e-01, 9.3502e-01, 2.4333e-02, 4.9497e-03, 5.0408e-01,\n",
              "         9.4695e-01, 2.9669e-01, 2.4783e-01, 3.8960e-01, 5.9872e-02, 6.6708e-01,\n",
              "         2.8520e-01, 5.9571e-01, 9.6075e-01, 1.7293e-01, 2.0121e-01, 8.6449e-01,\n",
              "         1.9122e-01, 8.6010e-01, 3.0993e-01, 8.2769e-01, 8.2777e-01, 8.6247e-01,\n",
              "         2.7189e-01, 9.5810e-01, 1.2881e-01, 8.9050e-01, 5.6427e-01, 5.2424e-01,\n",
              "         8.4285e-01, 1.5295e-01, 4.9666e-01, 6.6369e-01, 7.0058e-01, 8.7679e-02,\n",
              "         7.3168e-01, 9.5277e-01, 6.5642e-01, 8.9040e-02, 8.6912e-02, 4.9675e-01,\n",
              "         1.0729e-01, 6.3793e-01, 8.4854e-01, 5.5934e-01, 6.0559e-01, 6.3455e-01,\n",
              "         3.1119e-01, 8.2274e-01, 1.7200e-01, 8.6746e-01, 3.0186e-01, 4.9882e-01,\n",
              "         4.3843e-01, 4.1183e-01, 1.0320e-01, 5.1100e-01, 6.2483e-01, 9.0066e-03,\n",
              "         1.2474e-01, 9.0176e-01, 9.6035e-01, 9.1935e-01, 6.6731e-02, 5.1906e-01,\n",
              "         3.7910e-01, 9.7653e-01, 9.6951e-01, 7.7134e-01, 4.2275e-01, 3.6608e-01,\n",
              "         2.1574e-01, 5.2214e-01, 6.3664e-01, 6.7940e-01, 2.2168e-01, 7.3491e-02,\n",
              "         5.6774e-01, 2.6548e-01, 2.3005e-01, 7.7815e-01, 2.4789e-01, 8.0928e-01,\n",
              "         9.0973e-01, 6.3335e-02, 3.9156e-01, 2.4613e-01, 1.5122e-01, 7.0870e-01,\n",
              "         1.4753e-01, 4.0612e-01, 2.5618e-01, 9.3409e-01, 8.1289e-01, 1.1490e-01,\n",
              "         4.7843e-01, 4.4561e-01, 9.9970e-01, 3.8219e-01, 2.8816e-01, 8.5641e-01,\n",
              "         8.4454e-01, 2.9484e-01, 7.2207e-02, 6.7541e-01, 4.8062e-01, 4.4744e-01,\n",
              "         6.5869e-01, 8.9949e-01, 6.2114e-01, 5.6291e-01, 8.7712e-01, 8.4890e-01,\n",
              "         9.3982e-01, 6.3793e-01, 6.7487e-01, 4.6261e-01, 1.8849e-01, 6.0037e-01,\n",
              "         8.7895e-01, 2.1536e-01, 7.1574e-01, 5.0210e-02, 2.0748e-01, 3.3069e-01,\n",
              "         8.8029e-01, 8.2799e-01, 4.6589e-01, 1.4302e-01, 9.1941e-01, 4.6994e-01,\n",
              "         9.2376e-01, 8.7872e-01, 1.1424e-01, 8.5354e-02, 2.0988e-01, 7.7338e-01,\n",
              "         6.2867e-01, 7.8524e-02, 4.8768e-02, 7.3694e-01, 3.3404e-01, 8.7773e-01,\n",
              "         9.5990e-01, 5.6418e-01, 9.0075e-01, 1.0314e-02, 2.2311e-01, 1.8356e-01,\n",
              "         2.3321e-01, 1.8927e-01, 2.9570e-01, 3.1345e-01, 5.9237e-01, 6.3987e-01,\n",
              "         1.6767e-01, 1.6762e-01, 5.9195e-01, 8.6973e-01, 2.5204e-02, 7.2371e-01,\n",
              "         4.9641e-01, 6.7716e-01, 2.8717e-01, 9.9147e-01, 5.3653e-01, 4.1580e-01,\n",
              "         1.5347e-02, 9.9143e-01, 9.5544e-01, 4.5249e-01, 3.2055e-01, 2.4949e-01,\n",
              "         9.4395e-01, 2.3829e-01, 1.6243e-01, 7.9577e-01, 8.9515e-01, 8.2205e-01,\n",
              "         4.3556e-01, 5.6282e-01, 2.0001e-01, 1.5492e-01, 8.1687e-01, 3.4684e-01,\n",
              "         1.3593e-01, 2.2070e-01, 4.3405e-01, 9.5338e-02, 8.4667e-01, 1.8397e-01,\n",
              "         2.5982e-01, 6.9936e-01, 5.5379e-01, 8.4959e-01, 3.7834e-01, 2.4712e-01,\n",
              "         6.0632e-01, 2.0912e-01, 4.4553e-02, 9.8278e-01, 1.9097e-01, 1.0305e-01,\n",
              "         2.7255e-01, 6.1775e-01, 7.7113e-01, 2.0949e-01, 4.6668e-01, 2.6339e-01,\n",
              "         5.2347e-01, 8.2507e-01, 2.2143e-01, 9.9741e-01, 1.7319e-01, 7.7748e-01,\n",
              "         1.4702e-01, 9.1337e-01, 1.9945e-01, 9.0032e-01, 2.6181e-01, 3.2949e-02,\n",
              "         1.9481e-01, 4.8755e-02, 8.0274e-01, 6.7722e-01, 4.5088e-01, 9.6357e-01,\n",
              "         7.5405e-01, 5.6783e-01, 2.8705e-01, 8.2093e-01, 7.2113e-01, 5.0722e-01,\n",
              "         3.2055e-01, 6.7778e-01, 3.1978e-01, 9.4887e-01, 7.6501e-01, 9.6028e-01,\n",
              "         1.6362e-01, 6.0118e-01, 2.4995e-02, 5.7895e-01, 3.5366e-01, 2.1907e-01,\n",
              "         9.2156e-01, 7.9791e-01, 5.6487e-01, 3.3880e-01, 8.6753e-01, 9.5062e-02,\n",
              "         6.1212e-01, 7.6299e-01, 2.5779e-01, 7.4017e-01, 2.1648e-01, 5.9960e-01,\n",
              "         4.2284e-01, 8.4164e-01, 6.2047e-01, 2.5379e-01, 9.7222e-01, 7.0003e-01,\n",
              "         2.1043e-01, 2.6903e-02, 4.3613e-01, 4.5910e-01, 5.1032e-01, 5.9459e-01,\n",
              "         9.1941e-01, 1.4642e-01, 3.4608e-02, 2.0354e-01, 5.6694e-01, 9.8324e-01,\n",
              "         5.8787e-01, 5.5071e-01, 1.6808e-01, 6.2287e-01, 8.3546e-01, 2.3517e-02,\n",
              "         7.7257e-02, 5.7596e-01, 6.4504e-01, 8.8245e-01, 7.5475e-01, 6.3474e-01,\n",
              "         6.1669e-01, 7.8472e-01, 7.5442e-01, 1.7210e-01, 1.3909e-01, 8.9148e-01,\n",
              "         3.6912e-01, 1.3647e-01, 9.7224e-01, 5.1281e-01]])"
            ]
          },
          "metadata": {},
          "execution_count": 5
        }
      ]
    },
    {
      "cell_type": "code",
      "metadata": {
        "colab": {
          "base_uri": "https://localhost:8080/"
        },
        "id": "9fxhpdjCw92K",
        "outputId": "c5e14e7e-3d62-4201-81f4-66ca8904f9be"
      },
      "source": [
        "prediction = model(data) # forward pass"
      ],
      "execution_count": 6,
      "outputs": [
        {
          "output_type": "stream",
          "name": "stderr",
          "text": [
            "/usr/local/lib/python3.7/dist-packages/torch/nn/functional.py:718: UserWarning: Named tensors and all their associated APIs are an experimental feature and subject to change. Please do not use them for anything important until they are released as stable. (Triggered internally at  /pytorch/c10/core/TensorImpl.h:1156.)\n",
            "  return torch.max_pool2d(input, kernel_size, stride, padding, dilation, ceil_mode)\n"
          ]
        }
      ]
    },
    {
      "cell_type": "code",
      "metadata": {
        "id": "LM58IiOtxswB"
      },
      "source": [
        "loss = (prediction - labels).sum()\n",
        "loss.backward() # backward pass"
      ],
      "execution_count": 7,
      "outputs": []
    },
    {
      "cell_type": "code",
      "metadata": {
        "colab": {
          "base_uri": "https://localhost:8080/"
        },
        "id": "Z5DEHhMcxwN-",
        "outputId": "3c2ca6f4-df74-4680-870d-70c286ec9581"
      },
      "source": [
        "loss"
      ],
      "execution_count": 8,
      "outputs": [
        {
          "output_type": "execute_result",
          "data": {
            "text/plain": [
              "tensor(-488.5651, grad_fn=<SumBackward0>)"
            ]
          },
          "metadata": {},
          "execution_count": 8
        }
      ]
    },
    {
      "cell_type": "code",
      "metadata": {
        "id": "4R6G_vOexyqI"
      },
      "source": [
        "optim = torch.optim.SGD(model.parameters(), lr=1e-2, momentum=0.9)"
      ],
      "execution_count": 9,
      "outputs": []
    },
    {
      "cell_type": "code",
      "metadata": {
        "id": "1pgBptrmxylW"
      },
      "source": [
        "optim.step() #gradient descent"
      ],
      "execution_count": 10,
      "outputs": []
    },
    {
      "cell_type": "code",
      "metadata": {
        "id": "4rUohE-4xyg2"
      },
      "source": [
        "a = torch.tensor([2., 3.], requires_grad=True)\n",
        "b = torch.tensor([6., 4.], requires_grad=True)"
      ],
      "execution_count": 11,
      "outputs": []
    },
    {
      "cell_type": "code",
      "metadata": {
        "id": "My1et4Sbxybp"
      },
      "source": [
        "Q = 3*a**3 - b**2"
      ],
      "execution_count": 12,
      "outputs": []
    },
    {
      "cell_type": "code",
      "metadata": {
        "colab": {
          "base_uri": "https://localhost:8080/"
        },
        "id": "l1e2d6U3yX8a",
        "outputId": "5c7a4e77-4068-4159-b3e0-9a62f8c659b9"
      },
      "source": [
        "Q"
      ],
      "execution_count": 13,
      "outputs": [
        {
          "output_type": "execute_result",
          "data": {
            "text/plain": [
              "tensor([-12.,  65.], grad_fn=<SubBackward0>)"
            ]
          },
          "metadata": {},
          "execution_count": 13
        }
      ]
    },
    {
      "cell_type": "code",
      "metadata": {
        "id": "RqTjeghl0EtD"
      },
      "source": [
        "external_grad = torch.tensor([1., 1.])\n",
        "Q.backward(gradient=external_grad)"
      ],
      "execution_count": 14,
      "outputs": []
    },
    {
      "cell_type": "code",
      "metadata": {
        "colab": {
          "base_uri": "https://localhost:8080/"
        },
        "id": "70QOHktp0Gtp",
        "outputId": "88646076-c0b5-4cee-9f88-60c3a175a08e"
      },
      "source": [
        "print(9*a**2 == a.grad)\n",
        "print(-2*b == b.grad)"
      ],
      "execution_count": 15,
      "outputs": [
        {
          "output_type": "stream",
          "name": "stdout",
          "text": [
            "tensor([True, True])\n",
            "tensor([True, True])\n"
          ]
        }
      ]
    }
  ]
}